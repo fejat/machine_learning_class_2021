{
  "nbformat": 4,
  "nbformat_minor": 0,
  "metadata": {
    "colab": {
      "name": "Supervised_learning_hand_written_digits_exercise.ipynb",
      "provenance": [],
      "collapsed_sections": [
        "uAi9oNsKMNYQ",
        "ZJkkB4y6E-wn",
        "mlYYNpcwHqkG",
        "FYJjcXYjOAPv",
        "t57cEhvyPAFf"
      ],
      "toc_visible": true,
      "include_colab_link": true
    },
    "kernelspec": {
      "name": "python3",
      "display_name": "Python 3"
    },
    "language_info": {
      "name": "python"
    }
  },
  "cells": [
    {
      "cell_type": "markdown",
      "metadata": {
        "id": "view-in-github",
        "colab_type": "text"
      },
      "source": [
        "<a href=\"https://colab.research.google.com/github/fejat/machine_learning_class_2021/blob/main/Supervised_learning_hand_written_digits_exercise.ipynb\" target=\"_parent\"><img src=\"https://colab.research.google.com/assets/colab-badge.svg\" alt=\"Open In Colab\"/></a>"
      ]
    },
    {
      "cell_type": "markdown",
      "metadata": {
        "id": "d2HY0w9h4xcz"
      },
      "source": [
        "## Supervised learning: recognising hand-written digits"
      ]
    },
    {
      "cell_type": "markdown",
      "metadata": {
        "id": "cBSXIs0C4uSp"
      },
      "source": [
        "### A short introduction to Scikit-learn"
      ]
    },
    {
      "cell_type": "code",
      "metadata": {
        "id": "hQaJjRVH4je1"
      },
      "source": [
        "# sklearn offers datasets\n",
        "from sklearn import datasets\n",
        "\n",
        "import matplotlib.pyplot as plt\n",
        "\n",
        "digits = datasets.load_digits()"
      ],
      "execution_count": 2,
      "outputs": []
    },
    {
      "cell_type": "code",
      "metadata": {
        "colab": {
          "base_uri": "https://localhost:8080/"
        },
        "id": "hs1RHJml6sWX",
        "outputId": "bbabce91-461c-48db-abd2-ec15863918e1"
      },
      "source": [
        "# We print the first 4 images and their class\n",
        "#digits contains 3 infos :\n",
        "#digits.data\n",
        "#digits.target\n",
        "#digits.images\n",
        "print(digits.data[:4])\n",
        "print(digits.target[:4])"
      ],
      "execution_count": 3,
      "outputs": [
        {
          "output_type": "stream",
          "text": [
            "[[ 0.  0.  5. 13.  9.  1.  0.  0.  0.  0. 13. 15. 10. 15.  5.  0.  0.  3.\n",
            "  15.  2.  0. 11.  8.  0.  0.  4. 12.  0.  0.  8.  8.  0.  0.  5.  8.  0.\n",
            "   0.  9.  8.  0.  0.  4. 11.  0.  1. 12.  7.  0.  0.  2. 14.  5. 10. 12.\n",
            "   0.  0.  0.  0.  6. 13. 10.  0.  0.  0.]\n",
            " [ 0.  0.  0. 12. 13.  5.  0.  0.  0.  0.  0. 11. 16.  9.  0.  0.  0.  0.\n",
            "   3. 15. 16.  6.  0.  0.  0.  7. 15. 16. 16.  2.  0.  0.  0.  0.  1. 16.\n",
            "  16.  3.  0.  0.  0.  0.  1. 16. 16.  6.  0.  0.  0.  0.  1. 16. 16.  6.\n",
            "   0.  0.  0.  0.  0. 11. 16. 10.  0.  0.]\n",
            " [ 0.  0.  0.  4. 15. 12.  0.  0.  0.  0.  3. 16. 15. 14.  0.  0.  0.  0.\n",
            "   8. 13.  8. 16.  0.  0.  0.  0.  1.  6. 15. 11.  0.  0.  0.  1.  8. 13.\n",
            "  15.  1.  0.  0.  0.  9. 16. 16.  5.  0.  0.  0.  0.  3. 13. 16. 16. 11.\n",
            "   5.  0.  0.  0.  0.  3. 11. 16.  9.  0.]\n",
            " [ 0.  0.  7. 15. 13.  1.  0.  0.  0.  8. 13.  6. 15.  4.  0.  0.  0.  2.\n",
            "   1. 13. 13.  0.  0.  0.  0.  0.  2. 15. 11.  1.  0.  0.  0.  0.  0.  1.\n",
            "  12. 12.  1.  0.  0.  0.  0.  0.  1. 10.  8.  0.  0.  0.  8.  4.  5. 14.\n",
            "   9.  0.  0.  0.  7. 13. 13.  9.  0.  0.]]\n",
            "[0 1 2 3]\n"
          ],
          "name": "stdout"
        }
      ]
    },
    {
      "cell_type": "code",
      "metadata": {
        "colab": {
          "base_uri": "https://localhost:8080/",
          "height": 168
        },
        "id": "OcYvFgSQ6j1k",
        "outputId": "f704be44-9ecd-4fe6-8c14-62d44b19081d"
      },
      "source": [
        "# The following function will be useful for visualisation\n",
        "def print_four(images, predictions):\n",
        "  _, axes = plt.subplots(nrows=1, ncols=4, figsize=(10, 3))\n",
        "  for ax, image, label in zip(axes, images, predictions):\n",
        "      ax.set_axis_off()\n",
        "      if image.shape == (64,):\n",
        "        image = image.reshape(8, 8) \n",
        "      ax.imshow(image, cmap=plt.cm.gray_r, interpolation='nearest')\n",
        "      ax.set_title('Labelled: %i' % label)\n",
        "\n",
        "# We print images and their actual targets\n",
        "print_four(digits.images[:4], digits.target[:4])"
      ],
      "execution_count": 4,
      "outputs": [
        {
          "output_type": "display_data",
          "data": {
            "image/png": "[encoded data removed]",
            "text/plain": [
              "<Figure size 720x216 with 4 Axes>"
            ]
          },
          "metadata": {
            "tags": [],
            "needs_background": "light"
          }
        }
      ]
    },
    {
      "cell_type": "code",
      "metadata": {
        "id": "CzDL1nnb_wS5"
      },
      "source": [
        "from sklearn.model_selection import train_test_split\n",
        "\n",
        "# Split data into 50% train and 50% test subsets\n",
        "X_train, X_test, y_train, y_test = train_test_split(digits.data, digits.target, test_size=0.5, shuffle=True)"
      ],
      "execution_count": 5,
      "outputs": []
    },
    {
      "cell_type": "markdown",
      "metadata": {
        "id": "2WelNgBs8rK5"
      },
      "source": [
        "### Support Vector Machines (SVM)"
      ]
    },
    {
      "cell_type": "code",
      "metadata": {
        "colab": {
          "base_uri": "https://localhost:8080/"
        },
        "id": "6JCgt00x4rh3",
        "outputId": "dbe2c6be-5ede-4e45-86d8-59e0da919912"
      },
      "source": [
        "from sklearn import svm\n",
        "svm_classifier = svm.SVC(gamma=0.001)\n",
        "# variants using other kernels:\n",
        "# svc_classifier = svm.SVC(kernel='linear')\n",
        "# svc_classifier = svm.SVC(kernel='poly', degree=3)\n",
        "# svc_classifier = svm.SVC(kernel='rbf')\n",
        "\n",
        "# Estimator.fit(X,Y)\n",
        "# Learn from the training set\n",
        "svm_classifier.fit(X_train, y_train)"
      ],
      "execution_count": 6,
      "outputs": [
        {
          "output_type": "execute_result",
          "data": {
            "text/plain": [
              "SVC(C=1.0, break_ties=False, cache_size=200, class_weight=None, coef0=0.0,\n",
              "    decision_function_shape='ovr', degree=3, gamma=0.001, kernel='rbf',\n",
              "    max_iter=-1, probability=False, random_state=None, shrinking=True,\n",
              "    tol=0.001, verbose=False)"
            ]
          },
          "metadata": {
            "tags": []
          },
          "execution_count": 6
        }
      ]
    },
    {
      "cell_type": "code",
      "metadata": {
        "colab": {
          "base_uri": "https://localhost:8080/",
          "height": 168
        },
        "id": "qRdhSDLJBRpf",
        "outputId": "c812744c-0c5e-43fa-bf4d-378f99e7bcf6"
      },
      "source": [
        "# Predict on the first four images in the test set\n",
        "predicted_4 = svm_classifier.predict(X_test[:4])\n",
        "\n",
        "print_four(X_test[:4], predicted_4)"
      ],
      "execution_count": 7,
      "outputs": [
        {
          "output_type": "display_data",
          "data": {
            "image/png": "[encoded data removed]",
            "text/plain": [
              "<Figure size 720x216 with 4 Axes>"
            ]
          },
          "metadata": {
            "tags": [],
            "needs_background": "light"
          }
        }
      ]
    },
    {
      "cell_type": "code",
      "metadata": {
        "colab": {
          "base_uri": "https://localhost:8080/"
        },
        "id": "Fkl2OjMHBS0z",
        "outputId": "288e7de3-a760-4fe8-8065-db834c5a701c"
      },
      "source": [
        "# Predict on the whole test set\n",
        "predicted = svm_classifier.predict(X_test)\n",
        "\n",
        "# score = (predicted == y_test).sum()\n",
        "# print(\"Correctly predict {:.2f}% of the test set\".format(100 * score / len(predicted)))\n",
        "print('SVM score: %.4f' % svm_classifier.score(X_test, y_test))\n"
      ],
      "execution_count": 9,
      "outputs": [
        {
          "output_type": "stream",
          "text": [
            "SVM score: 0.9878\n"
          ],
          "name": "stdout"
        }
      ]
    },
    {
      "cell_type": "code",
      "metadata": {
        "colab": {
          "base_uri": "https://localhost:8080/"
        },
        "id": "fJsejzhJC_Nk",
        "outputId": "cd0868cf-d6d3-446f-a0e4-21da97e7aa8b"
      },
      "source": [
        "from sklearn import metrics\n",
        "print(f\"Classification report for classifier {svm_classifier}:\\n\"\n",
        "      f\"{metrics.classification_report(y_test, predicted)}\\n\")"
      ],
      "execution_count": 10,
      "outputs": [
        {
          "output_type": "stream",
          "text": [
            "Classification report for classifier SVC(C=1.0, break_ties=False, cache_size=200, class_weight=None, coef0=0.0,\n",
            "    decision_function_shape='ovr', degree=3, gamma=0.001, kernel='rbf',\n",
            "    max_iter=-1, probability=False, random_state=None, shrinking=True,\n",
            "    tol=0.001, verbose=False):\n",
            "              precision    recall  f1-score   support\n",
            "\n",
            "           0       1.00      1.00      1.00        90\n",
            "           1       0.97      1.00      0.98        84\n",
            "           2       1.00      1.00      1.00        96\n",
            "           3       1.00      0.99      0.99        90\n",
            "           4       1.00      1.00      1.00        83\n",
            "           5       0.99      0.98      0.98        85\n",
            "           6       0.99      0.98      0.98        95\n",
            "           7       0.98      0.99      0.98        91\n",
            "           8       0.98      0.98      0.98        93\n",
            "           9       0.98      0.97      0.97        92\n",
            "\n",
            "    accuracy                           0.99       899\n",
            "   macro avg       0.99      0.99      0.99       899\n",
            "weighted avg       0.99      0.99      0.99       899\n",
            "\n",
            "\n"
          ],
          "name": "stdout"
        }
      ]
    },
    {
      "cell_type": "code",
      "metadata": {
        "colab": {
          "base_uri": "https://localhost:8080/",
          "height": 493
        },
        "id": "A9jyBOv8DGsx",
        "outputId": "b06c3fec-213d-43fa-8ef0-63e6f5d70c90"
      },
      "source": [
        "disp = metrics.plot_confusion_matrix(svm_classifier, X_test, y_test)\n",
        "disp.figure_.suptitle(\"Confusion Matrix\")\n",
        "print(f\"Confusion matrix:\\n{disp.confusion_matrix}\")\n",
        "\n",
        "plt.show()"
      ],
      "execution_count": 11,
      "outputs": [
        {
          "output_type": "stream",
          "text": [
            "Confusion matrix:\n",
            "[[90  0  0  0  0  0  0  0  0  0]\n",
            " [ 0 84  0  0  0  0  0  0  0  0]\n",
            " [ 0  0 96  0  0  0  0  0  0  0]\n",
            " [ 0  0  0 89  0  0  0  1  0  0]\n",
            " [ 0  0  0  0 83  0  0  0  0  0]\n",
            " [ 0  0  0  0  0 83  1  0  0  1]\n",
            " [ 0  1  0  0  0  0 93  0  1  0]\n",
            " [ 0  0  0  0  0  0  0 90  0  1]\n",
            " [ 0  2  0  0  0  0  0  0 91  0]\n",
            " [ 0  0  0  0  0  1  0  1  1 89]]\n"
          ],
          "name": "stdout"
        },
        {
          "output_type": "display_data",
          "data": {
            "image/png": "[encoded data removed]",
            "text/plain": [
              "<Figure size 432x288 with 2 Axes>"
            ]
          },
          "metadata": {
            "tags": [],
            "needs_background": "light"
          }
        }
      ]
    },
    {
      "cell_type": "markdown",
      "metadata": {
        "id": "uAi9oNsKMNYQ"
      },
      "source": [
        "### Cross-validation method"
      ]
    },
    {
      "cell_type": "code",
      "metadata": {
        "colab": {
          "base_uri": "https://localhost:8080/"
        },
        "id": "6lVkbVLuMMY4",
        "outputId": "47fd68b1-68cf-4d14-fc57-fc4209df5cb1"
      },
      "source": [
        "from sklearn.model_selection import KFold, cross_val_score\n",
        "X = range(10)\n",
        "k_fold = KFold(n_splits=5)\n",
        "for train_indices, test_indices in k_fold.split(X):\n",
        "  print('Train: %s | test: %s' % (train_indices, test_indices))"
      ],
      "execution_count": 12,
      "outputs": [
        {
          "output_type": "stream",
          "text": [
            "Train: [2 3 4 5 6 7 8 9] | test: [0 1]\n",
            "Train: [0 1 4 5 6 7 8 9] | test: [2 3]\n",
            "Train: [0 1 2 3 6 7 8 9] | test: [4 5]\n",
            "Train: [0 1 2 3 4 5 8 9] | test: [6 7]\n",
            "Train: [0 1 2 3 4 5 6 7] | test: [8 9]\n"
          ],
          "name": "stdout"
        }
      ]
    },
    {
      "cell_type": "code",
      "metadata": {
        "colab": {
          "base_uri": "https://localhost:8080/"
        },
        "id": "W1zQSVgPMmLv",
        "outputId": "93664b64-883e-4e3d-ee1c-e9bb407dc925"
      },
      "source": [
        "# Compute cross validation score:\n",
        "[svm_classifier.fit(digits.data[train], digits.target[train]).score(digits.data[test], digits.target[test]) for train, test in k_fold.split(digits.data)]"
      ],
      "execution_count": 13,
      "outputs": [
        {
          "output_type": "execute_result",
          "data": {
            "text/plain": [
              "[0.975,\n",
              " 0.9527777777777777,\n",
              " 0.9832869080779945,\n",
              " 0.9916434540389972,\n",
              " 0.958217270194986]"
            ]
          },
          "metadata": {
            "tags": []
          },
          "execution_count": 13
        }
      ]
    },
    {
      "cell_type": "code",
      "metadata": {
        "colab": {
          "base_uri": "https://localhost:8080/"
        },
        "id": "ClCpFqD6NCM3",
        "outputId": "883559e3-e77f-4359-94f5-4e01ac51ee36"
      },
      "source": [
        "# All done in a nice one-liner\n",
        "cross_val_score(svm_classifier, digits.data, digits.target, cv=k_fold)"
      ],
      "execution_count": 14,
      "outputs": [
        {
          "output_type": "execute_result",
          "data": {
            "text/plain": [
              "array([0.975     , 0.95277778, 0.98328691, 0.99164345, 0.95821727])"
            ]
          },
          "metadata": {
            "tags": []
          },
          "execution_count": 14
        }
      ]
    },
    {
      "cell_type": "markdown",
      "metadata": {
        "id": "ZJkkB4y6E-wn"
      },
      "source": [
        "### k-nearest neighbours (KNN)"
      ]
    },
    {
      "cell_type": "code",
      "metadata": {
        "id": "HEG7pZ9nFEdz"
      },
      "source": [
        "from sklearn.neighbors import KNeighborsClassifier\n",
        "knn_classifier = KNeighborsClassifier(n_neighbors=3,p=1,metric='euclidean')"
      ],
      "execution_count": 60,
      "outputs": []
    },
    {
      "cell_type": "code",
      "metadata": {
        "id": "wiJ1e9DqFgU3",
        "colab": {
          "base_uri": "https://localhost:8080/",
          "height": 185
        },
        "outputId": "9332e529-fb96-46b2-d669-22c2045000da"
      },
      "source": [
        "# Print four images and their predictions, and compute the score \n",
        "knn_classifier.fit(X_train, y_train)\n",
        "predictions_knn_4=knn_classifier.predict(X_test[:4])\n",
        "\n",
        "print_four(X_test[:4], predictions_knn_4)\n",
        "print('KNN score: %.4f' % knn_classifier.score(X_test, y_test))\n"
      ],
      "execution_count": 62,
      "outputs": [
        {
          "output_type": "stream",
          "text": [
            "KNN score: 0.9833\n"
          ],
          "name": "stdout"
        },
        {
          "output_type": "display_data",
          "data": {
            "image/png": "[encoded data removed]",
            "text/plain": [
              "<Figure size 720x216 with 4 Axes>"
            ]
          },
          "metadata": {
            "tags": [],
            "needs_background": "light"
          }
        }
      ]
    },
    {
      "cell_type": "markdown",
      "metadata": {
        "id": "mlYYNpcwHqkG"
      },
      "source": [
        "### Logistic regression"
      ]
    },
    {
      "cell_type": "code",
      "metadata": {
        "id": "1clhFk_vHuX1"
      },
      "source": [
        "from sklearn import linear_model\n",
        "LinearRegression=linear_model.LogisticRegression(max_iter=10000)"
      ],
      "execution_count": 76,
      "outputs": []
    },
    {
      "cell_type": "code",
      "metadata": {
        "id": "dexcwY0CJaGE",
        "colab": {
          "base_uri": "https://localhost:8080/",
          "height": 185
        },
        "outputId": "07286dbe-8158-41dd-939e-921d8a807484"
      },
      "source": [
        "# Print four images and their predictions, and compute the score \n",
        "\n",
        "LinearRegression.fit(X_train, y_train)\n",
        "predictions_lin_4=LinearRegression.predict(X_test[:4])\n",
        "\n",
        "print_four(X_test[:4], predictions_lin_4)\n",
        "print('LogisticRegression score: %.4f' % LinearRegression.score(X_test, y_test))"
      ],
      "execution_count": 77,
      "outputs": [
        {
          "output_type": "stream",
          "text": [
            "LogisticRegression score: 0.9644\n"
          ],
          "name": "stdout"
        },
        {
          "output_type": "display_data",
          "data": {
            "image/png": "[encoded data removed]",
            "text/plain": [
              "<Figure size 720x216 with 4 Axes>"
            ]
          },
          "metadata": {
            "tags": [],
            "needs_background": "light"
          }
        }
      ]
    },
    {
      "cell_type": "markdown",
      "metadata": {
        "id": "FYJjcXYjOAPv"
      },
      "source": [
        "### Decision trees"
      ]
    },
    {
      "cell_type": "code",
      "metadata": {
        "id": "g1dvypZrODEQ"
      },
      "source": [
        "from sklearn import tree"
      ],
      "execution_count": 78,
      "outputs": []
    },
    {
      "cell_type": "code",
      "metadata": {
        "id": "4vzVW7nfOUqw",
        "colab": {
          "base_uri": "https://localhost:8080/",
          "height": 185
        },
        "outputId": "079a1317-820d-4f81-e256-30504d506a20"
      },
      "source": [
        "# Print four images and their predictions, and compute the score \n",
        "dec_tree=tree.DecisionTreeClassifier(criterion='gini',min_samples_split=3,min_weight_fraction_leaf=0.0001)\n",
        "\n",
        "dec_tree.fit(X_train, y_train)\n",
        "predictions_lin_4=dec_tree.predict(X_test[:4])\n",
        "\n",
        "print_four(X_test[:4], predictions_lin_4)\n",
        "print('LogisticRegression score: %.4f' % dec_tree.score(X_test, y_test))"
      ],
      "execution_count": 109,
      "outputs": [
        {
          "output_type": "stream",
          "text": [
            "LogisticRegression score: 0.8376\n"
          ],
          "name": "stdout"
        },
        {
          "output_type": "display_data",
          "data": {
            "image/png": "[encoded data removed]",
            "text/plain": [
              "<Figure size 720x216 with 4 Axes>"
            ]
          },
          "metadata": {
            "tags": [],
            "needs_background": "light"
          }
        }
      ]
    },
    {
      "cell_type": "markdown",
      "metadata": {
        "id": "t57cEhvyPAFf"
      },
      "source": [
        "### Neural networks"
      ]
    },
    {
      "cell_type": "code",
      "metadata": {
        "id": "0GednBrVOhy1"
      },
      "source": [
        "from sklearn.neural_network import MLPClassifier"
      ],
      "execution_count": 81,
      "outputs": []
    },
    {
      "cell_type": "code",
      "metadata": {
        "id": "hIJvuEZLPt00",
        "colab": {
          "base_uri": "https://localhost:8080/",
          "height": 185
        },
        "outputId": "4606a6c4-8475-4a8d-b017-81f0178df3bc"
      },
      "source": [
        "# Print four images and their predictions, and compute the score \n",
        "\n",
        "dec_tree=MLPClassifier(max_iter=1000000,hidden_layer_sizes=(4096,),random_state=1)\n",
        "\n",
        "dec_tree.fit(X_train, y_train)\n",
        "predictions_lin_4=dec_tree.predict(X_test[:4])\n",
        "\n",
        "print_four(X_test[:4], predictions_lin_4)\n",
        "print('MLP score: %.4f' % dec_tree.score(X_test, y_test))"
      ],
      "execution_count": 112,
      "outputs": [
        {
          "output_type": "stream",
          "text": [
            "MLP score: 0.9844\n"
          ],
          "name": "stdout"
        },
        {
          "output_type": "display_data",
          "data": {
            "image/png": "[encoded data removed]",
            "text/plain": [
              "<Figure size 720x216 with 4 Axes>"
            ]
          },
          "metadata": {
            "tags": [],
            "needs_background": "light"
          }
        }
      ]
    },
    {
      "cell_type": "code",
      "metadata": {
        "id": "bwqdm2XeP31k"
      },
      "source": [
        ""
      ],
      "execution_count": null,
      "outputs": []
    }
  ]
}